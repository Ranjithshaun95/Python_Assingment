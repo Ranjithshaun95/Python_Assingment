{
 "cells": [
  {
   "cell_type": "markdown",
   "id": "b4c2acdc",
   "metadata": {},
   "source": [
    "## 1.Import the necessary package to\n",
    "## a.Set the current working directory\n",
    "## b.Change the working directory\n"
   ]
  },
  {
   "cell_type": "code",
   "execution_count": 5,
   "id": "e30b9f3f",
   "metadata": {},
   "outputs": [
    {
     "name": "stdout",
     "output_type": "stream",
     "text": [
      "C:\\Users\\Ranjith\n",
      "C:\\Users\n"
     ]
    }
   ],
   "source": [
    "import os \n",
    "\n",
    "#Set the current working directory\n",
    "curr_dir=os.getcwd()\n",
    "print(curr_dir)\n",
    "\n",
    "#.Change the working directory\n",
    "os.chdir('../')\n",
    "change_dir = os.getcwd()\n",
    "print(change_dir)\n",
    "\n"
   ]
  },
  {
   "cell_type": "markdown",
   "id": "af9e4cbd",
   "metadata": {},
   "source": [
    "## 2.\tCreate the string, int and float variable and delete them all in the next cell"
   ]
  },
  {
   "cell_type": "markdown",
   "id": "e1213dba",
   "metadata": {},
   "source": [
    "## Create the string, int and float variable "
   ]
  },
  {
   "cell_type": "code",
   "execution_count": 11,
   "id": "5e09a4af",
   "metadata": {},
   "outputs": [
    {
     "name": "stdout",
     "output_type": "stream",
     "text": [
      "This is String litral value \n",
      " 37 \n",
      " 37.5\n"
     ]
    }
   ],
   "source": [
    "Str = \"This is String litral value\"\n",
    "a =37\n",
    "b= 37.5\n",
    "print(Str,\"\\n\",a,\"\\n\",b)"
   ]
  },
  {
   "cell_type": "markdown",
   "id": "144905d9",
   "metadata": {},
   "source": [
    "   ## delete them all in the next cell"
   ]
  },
  {
   "cell_type": "code",
   "execution_count": 12,
   "id": "b3f3bec0",
   "metadata": {},
   "outputs": [
    {
     "ename": "NameError",
     "evalue": "name 'Str' is not defined",
     "output_type": "error",
     "traceback": [
      "\u001b[1;31m---------------------------------------------------------------------------\u001b[0m",
      "\u001b[1;31mNameError\u001b[0m                                 Traceback (most recent call last)",
      "\u001b[1;32m~\\AppData\\Local\\Temp/ipykernel_28864/3693216525.py\u001b[0m in \u001b[0;36m<module>\u001b[1;34m\u001b[0m\n\u001b[0;32m      2\u001b[0m \u001b[1;32mdel\u001b[0m \u001b[0ma\u001b[0m\u001b[1;33m\u001b[0m\u001b[1;33m\u001b[0m\u001b[0m\n\u001b[0;32m      3\u001b[0m \u001b[1;32mdel\u001b[0m \u001b[0mb\u001b[0m\u001b[1;33m\u001b[0m\u001b[1;33m\u001b[0m\u001b[0m\n\u001b[1;32m----> 4\u001b[1;33m \u001b[0mprint\u001b[0m\u001b[1;33m(\u001b[0m\u001b[0mStr\u001b[0m\u001b[1;33m,\u001b[0m\u001b[1;34m\"\\n\"\u001b[0m\u001b[1;33m,\u001b[0m\u001b[0ma\u001b[0m\u001b[1;33m,\u001b[0m\u001b[1;34m\"\\n\"\u001b[0m\u001b[1;33m,\u001b[0m\u001b[0mb\u001b[0m\u001b[1;33m)\u001b[0m\u001b[1;33m\u001b[0m\u001b[1;33m\u001b[0m\u001b[0m\n\u001b[0m",
      "\u001b[1;31mNameError\u001b[0m: name 'Str' is not defined"
     ]
    }
   ],
   "source": [
    "del Str\n",
    "del a\n",
    "del b\n",
    "print(Str,\"\\n\",a,\"\\n\",b)"
   ]
  },
  {
   "cell_type": "markdown",
   "id": "acc7a4b7",
   "metadata": {},
   "source": [
    "## 3.\tWhat’s the result of assigning a value to a ‘keyword’?\n",
    "##        a.\tPlease highlight the error\n"
   ]
  },
  {
   "cell_type": "code",
   "execution_count": 14,
   "id": "b4b28a06",
   "metadata": {},
   "outputs": [
    {
     "ename": "SyntaxError",
     "evalue": "cannot assign to True (Temp/ipykernel_28864/639564904.py, line 1)",
     "output_type": "error",
     "traceback": [
      "\u001b[1;36m  File \u001b[1;32m\"C:\\Users\\Ranjith\\AppData\\Local\\Temp/ipykernel_28864/639564904.py\"\u001b[1;36m, line \u001b[1;32m1\u001b[0m\n\u001b[1;33m    True = 100\u001b[0m\n\u001b[1;37m    ^\u001b[0m\n\u001b[1;31mSyntaxError\u001b[0m\u001b[1;31m:\u001b[0m cannot assign to True\n"
     ]
    }
   ],
   "source": [
    "True = 100\n",
    "print(True)"
   ]
  },
  {
   "cell_type": "markdown",
   "id": "7e8f9789",
   "metadata": {},
   "source": [
    "##  4.\tHow to write a multi-line statement and assign it to a variable (Note: Without using a backslash “\\” at the end of each line"
   ]
  },
  {
   "cell_type": "code",
   "execution_count": 21,
   "id": "fb51b498",
   "metadata": {},
   "outputs": [
    {
     "name": "stdout",
     "output_type": "stream",
     "text": [
      "This is the Multi -line command ,\n",
      "with out using, \n",
      "\\ backslash\n"
     ]
    }
   ],
   "source": [
    "string = \"\"\"This is the Multi -line command ,\n",
    "with out using, \n",
    "\\ backslash\"\"\"\n",
    "print(string)"
   ]
  },
  {
   "cell_type": "markdown",
   "id": "864f0519",
   "metadata": {},
   "source": [
    "## 5.\tPrint the list of numbers from 100 to 999 with an interval (step size) of 8 between the numbers"
   ]
  },
  {
   "cell_type": "code",
   "execution_count": 23,
   "id": "0d4f03db",
   "metadata": {},
   "outputs": [
    {
     "name": "stdout",
     "output_type": "stream",
     "text": [
      "100\n",
      "108\n",
      "116\n",
      "124\n",
      "132\n",
      "140\n",
      "148\n",
      "156\n",
      "164\n",
      "172\n",
      "180\n",
      "188\n",
      "196\n",
      "204\n",
      "212\n",
      "220\n",
      "228\n",
      "236\n",
      "244\n",
      "252\n",
      "260\n",
      "268\n",
      "276\n",
      "284\n",
      "292\n",
      "300\n",
      "308\n",
      "316\n",
      "324\n",
      "332\n",
      "340\n",
      "348\n",
      "356\n",
      "364\n",
      "372\n",
      "380\n",
      "388\n",
      "396\n",
      "404\n",
      "412\n",
      "420\n",
      "428\n",
      "436\n",
      "444\n",
      "452\n",
      "460\n",
      "468\n",
      "476\n",
      "484\n",
      "492\n",
      "500\n",
      "508\n",
      "516\n",
      "524\n",
      "532\n",
      "540\n",
      "548\n",
      "556\n",
      "564\n",
      "572\n",
      "580\n",
      "588\n",
      "596\n",
      "604\n",
      "612\n",
      "620\n",
      "628\n",
      "636\n",
      "644\n",
      "652\n",
      "660\n",
      "668\n",
      "676\n",
      "684\n",
      "692\n",
      "700\n",
      "708\n",
      "716\n",
      "724\n",
      "732\n",
      "740\n",
      "748\n",
      "756\n",
      "764\n",
      "772\n",
      "780\n",
      "788\n",
      "796\n",
      "804\n",
      "812\n",
      "820\n",
      "828\n",
      "836\n",
      "844\n",
      "852\n",
      "860\n",
      "868\n",
      "876\n",
      "884\n",
      "892\n",
      "900\n",
      "908\n",
      "916\n",
      "924\n",
      "932\n",
      "940\n",
      "948\n",
      "956\n",
      "964\n",
      "972\n",
      "980\n",
      "988\n",
      "996\n"
     ]
    }
   ],
   "source": [
    "for i in range(100,999,8):\n",
    "    print(i)"
   ]
  },
  {
   "cell_type": "markdown",
   "id": "95f07139",
   "metadata": {},
   "source": [
    "## 6.\tWrite a “for” loop to print out the ‘n’ values and break out of the statement if the value is ‘n/2’"
   ]
  },
  {
   "cell_type": "code",
   "execution_count": 5,
   "id": "bf62e874",
   "metadata": {},
   "outputs": [
    {
     "name": "stdout",
     "output_type": "stream",
     "text": [
      "9\n"
     ]
    }
   ],
   "source": [
    "n=[9,12,2,10,25]\n",
    "for i in n:\n",
    "    if i%2==0:\n",
    "        break;\n",
    "    print(i)"
   ]
  },
  {
   "cell_type": "markdown",
   "id": "94c083fc",
   "metadata": {},
   "source": [
    "## 7.\tWrite a simple function and call the docstring from outside the function"
   ]
  },
  {
   "cell_type": "code",
   "execution_count": 17,
   "id": "7958ccea",
   "metadata": {},
   "outputs": [
    {
     "name": "stdout",
     "output_type": "stream",
     "text": [
      "Demonstrates triple double quotes\n",
      "    docstrings and does nothing really.\n"
     ]
    }
   ],
   "source": [
    "def my_function():\n",
    "    '''Demonstrates triple double quotes\n",
    "    docstrings and does nothing really.'''\n",
    "print(my_function.__doc__)"
   ]
  },
  {
   "cell_type": "markdown",
   "id": "c04fb76c",
   "metadata": {},
   "source": [
    "## 8.\tCreate a user-defined package in ‘site-packages’ with below 3 variables a, b and c. Import these variables and write a function to calculate the area of triangle for below 3 sides (a, b, c). Calculate the semi-perimeter (s) first, to calculate the area of triangle (area) at last\n",
    "## << Formula to calculate semi-perimeter: s = (a+b+c )/2\n",
    "## << Formula to calculate area = (s*(s-a) * (s-b) * (s-c)) ** 0.5 >>\n",
    "## a.\t15\n",
    "## b.\t51\n",
    "## c.\t17\n"
   ]
  },
  {
   "cell_type": "code",
   "execution_count": 13,
   "id": "e4db6913",
   "metadata": {},
   "outputs": [
    {
     "data": {
      "text/plain": [
       "(3.097937745838546e-14+505.93162828587816j)"
      ]
     },
     "execution_count": 13,
     "metadata": {},
     "output_type": "execute_result"
    }
   ],
   "source": [
    "from Mypackage import Mydata\n",
    "\n",
    "a=Mydata.a\n",
    "b=Mydata.b\n",
    "c=Mydata.c\n",
    "\n",
    "def area(a,b,c):\n",
    "    #semi-perimeter\n",
    "    s=(a+b+c)/2\n",
    "    return (s*(s-a)*(s-b)*(s-c)) ** 0.5\n",
    "\n",
    "area(a,b,c)\n",
    "\n",
    "\n"
   ]
  },
  {
   "cell_type": "markdown",
   "id": "9afb7cb3",
   "metadata": {},
   "source": [
    "## 9.\tWrite a list comprehension to print the odd numbers from 0 to 100"
   ]
  },
  {
   "cell_type": "code",
   "execution_count": 10,
   "id": "528f0e7d",
   "metadata": {},
   "outputs": [
    {
     "name": "stdout",
     "output_type": "stream",
     "text": [
      "[0, 2, 4, 6, 8, 10, 12, 14, 16, 18, 20, 22, 24, 26, 28, 30, 32, 34, 36, 38, 40, 42, 44, 46, 48, 50, 52, 54, 56, 58, 60, 62, 64, 66, 68, 70, 72, 74, 76, 78, 80, 82, 84, 86, 88, 90, 92, 94, 96, 98]\n"
     ]
    }
   ],
   "source": [
    "list_com= [x for x in range(0,100) if x%2 == 0] \n",
    "print(list_com)"
   ]
  },
  {
   "cell_type": "markdown",
   "id": "7fb7e847",
   "metadata": {},
   "source": [
    "## 10.Create a variable (ex: name) and store your full name in it. Then write a list comprehension to print your name excluding vowels (a, e, i, o, u)\n",
    "## a.\tEx: name = Imran\n",
    "## b.\tOutput = [‘m’, ‘r’, ‘n’]\n"
   ]
  },
  {
   "cell_type": "code",
   "execution_count": 16,
   "id": "e2c6eca0",
   "metadata": {},
   "outputs": [
    {
     "name": "stdout",
     "output_type": "stream",
     "text": [
      "['a', 'i']\n"
     ]
    }
   ],
   "source": [
    "Name= \"Ranjith\"\n",
    "vowels=[\"a\",\"e,\",\"i\",\"o\",\"u\"]\n",
    "l=[]\n",
    "for i in Name:\n",
    "    if i in vowels:\n",
    "        l.append(i)\n",
    "print(l)\n",
    "        "
   ]
  },
  {
   "cell_type": "code",
   "execution_count": null,
   "id": "85d28f1a",
   "metadata": {},
   "outputs": [],
   "source": []
  }
 ],
 "metadata": {
  "kernelspec": {
   "display_name": "Python 3 (ipykernel)",
   "language": "python",
   "name": "python3"
  },
  "language_info": {
   "codemirror_mode": {
    "name": "ipython",
    "version": 3
   },
   "file_extension": ".py",
   "mimetype": "text/x-python",
   "name": "python",
   "nbconvert_exporter": "python",
   "pygments_lexer": "ipython3",
   "version": "3.9.7"
  }
 },
 "nbformat": 4,
 "nbformat_minor": 5
}
