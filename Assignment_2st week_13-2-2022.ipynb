{
 "cells": [
  {
   "cell_type": "markdown",
   "id": "4571f45a",
   "metadata": {},
   "source": [
    "## 1.\tGet the input for 2 variables though “input” function and pass them to a function to return the addition of two variables"
   ]
  },
  {
   "cell_type": "code",
   "execution_count": 1,
   "id": "9d05fba2",
   "metadata": {},
   "outputs": [
    {
     "name": "stdout",
     "output_type": "stream",
     "text": [
      "Enter the a value3\n",
      "Enter the b value4\n"
     ]
    }
   ],
   "source": [
    "def addtion(a,b):\n",
    "    return a+b\n",
    "a=int(input(\"Enter the a value\"))\n",
    "b=int(input(\"Enter the b value\"))\n"
   ]
  },
  {
   "cell_type": "code",
   "execution_count": 2,
   "id": "5c162d92",
   "metadata": {},
   "outputs": [
    {
     "data": {
      "text/plain": [
       "7"
      ]
     },
     "execution_count": 2,
     "metadata": {},
     "output_type": "execute_result"
    }
   ],
   "source": [
    "addtion(a,b)"
   ]
  },
  {
   "cell_type": "markdown",
   "id": "e14ddea7",
   "metadata": {},
   "source": [
    "## 2.\tWhat happens if we try to add an int with str and vice versa. Please print out the error"
   ]
  },
  {
   "cell_type": "code",
   "execution_count": 3,
   "id": "7aeadd0c",
   "metadata": {},
   "outputs": [
    {
     "ename": "TypeError",
     "evalue": "unsupported operand type(s) for +: 'int' and 'str'",
     "output_type": "error",
     "traceback": [
      "\u001b[1;31m---------------------------------------------------------------------------\u001b[0m",
      "\u001b[1;31mTypeError\u001b[0m                                 Traceback (most recent call last)",
      "\u001b[1;32m~\\AppData\\Local\\Temp/ipykernel_27752/3965020519.py\u001b[0m in \u001b[0;36m<module>\u001b[1;34m\u001b[0m\n\u001b[0;32m      1\u001b[0m \u001b[0ma\u001b[0m\u001b[1;33m=\u001b[0m \u001b[1;36m37\u001b[0m\u001b[1;33m\u001b[0m\u001b[1;33m\u001b[0m\u001b[0m\n\u001b[0;32m      2\u001b[0m \u001b[0mb\u001b[0m\u001b[1;33m=\u001b[0m\u001b[1;34m\"Chennai\"\u001b[0m\u001b[1;33m\u001b[0m\u001b[1;33m\u001b[0m\u001b[0m\n\u001b[1;32m----> 3\u001b[1;33m \u001b[0mc\u001b[0m \u001b[1;33m=\u001b[0m \u001b[0ma\u001b[0m\u001b[1;33m+\u001b[0m\u001b[0mb\u001b[0m\u001b[1;33m\u001b[0m\u001b[1;33m\u001b[0m\u001b[0m\n\u001b[0m\u001b[0;32m      4\u001b[0m \u001b[0mprint\u001b[0m\u001b[1;33m(\u001b[0m\u001b[0mc\u001b[0m\u001b[1;33m)\u001b[0m\u001b[1;33m\u001b[0m\u001b[1;33m\u001b[0m\u001b[0m\n",
      "\u001b[1;31mTypeError\u001b[0m: unsupported operand type(s) for +: 'int' and 'str'"
     ]
    }
   ],
   "source": [
    "a= 37\n",
    "b=\"Chennai\"\n",
    "c = a+b\n",
    "print(c)"
   ]
  },
  {
   "cell_type": "markdown",
   "id": "8a660338",
   "metadata": {},
   "source": [
    "## 3.\tCreate a string variable for the word “Data Science” and see if the letter “s” is present in it using membership operators"
   ]
  },
  {
   "cell_type": "code",
   "execution_count": 4,
   "id": "08b08305",
   "metadata": {},
   "outputs": [
    {
     "ename": "TypeError",
     "evalue": "argument of type 'type' is not iterable",
     "output_type": "error",
     "traceback": [
      "\u001b[1;31m---------------------------------------------------------------------------\u001b[0m",
      "\u001b[1;31mTypeError\u001b[0m                                 Traceback (most recent call last)",
      "\u001b[1;32m~\\AppData\\Local\\Temp/ipykernel_27752/1829845262.py\u001b[0m in \u001b[0;36m<module>\u001b[1;34m\u001b[0m\n\u001b[0;32m      1\u001b[0m \u001b[0mstr1\u001b[0m \u001b[1;33m=\u001b[0m \u001b[1;34m'Data Science'\u001b[0m\u001b[1;33m\u001b[0m\u001b[1;33m\u001b[0m\u001b[0m\n\u001b[0;32m      2\u001b[0m \u001b[0mstr2\u001b[0m\u001b[1;33m=\u001b[0m \u001b[0mstr1\u001b[0m\u001b[1;33m.\u001b[0m\u001b[0mlower\u001b[0m\u001b[1;33m(\u001b[0m\u001b[1;33m)\u001b[0m\u001b[1;33m\u001b[0m\u001b[1;33m\u001b[0m\u001b[0m\n\u001b[1;32m----> 3\u001b[1;33m \u001b[0mprint\u001b[0m\u001b[1;33m(\u001b[0m\u001b[1;34m's'\u001b[0m \u001b[1;32min\u001b[0m \u001b[0mstr\u001b[0m\u001b[1;33m)\u001b[0m\u001b[1;33m\u001b[0m\u001b[1;33m\u001b[0m\u001b[0m\n\u001b[0m\u001b[0;32m      4\u001b[0m \u001b[0mprint\u001b[0m\u001b[1;33m(\u001b[0m\u001b[1;34m's'\u001b[0m \u001b[1;32min\u001b[0m \u001b[0mstr2\u001b[0m\u001b[1;33m)\u001b[0m\u001b[1;33m\u001b[0m\u001b[1;33m\u001b[0m\u001b[0m\n\u001b[0;32m      5\u001b[0m \u001b[1;33m\u001b[0m\u001b[0m\n",
      "\u001b[1;31mTypeError\u001b[0m: argument of type 'type' is not iterable"
     ]
    }
   ],
   "source": [
    "str1 = 'Data Science'\n",
    "str2= str1.lower()\n",
    "print('s' in str)\n",
    "print('s' in str2)\n",
    "\n"
   ]
  },
  {
   "cell_type": "markdown",
   "id": "83cd2134",
   "metadata": {},
   "source": [
    "## 4.\tWrite a function and pass a number list as an argument to the function. And return True if the first and last number of a given list is same. If numbers are different then return False"
   ]
  },
  {
   "cell_type": "code",
   "execution_count": 5,
   "id": "04cba22c",
   "metadata": {},
   "outputs": [
    {
     "data": {
      "text/plain": [
       "True"
      ]
     },
     "execution_count": 5,
     "metadata": {},
     "output_type": "execute_result"
    }
   ],
   "source": [
    "def testfunction(lis):\n",
    "    if (lis[0] == lis[-1]):\n",
    "        return True\n",
    "    else:\n",
    "        return False\n",
    "\n",
    "lis=[1,2,3,4,1]\n",
    "lis1=[1,2,3,4,5]\n",
    "testfunction(lis)\n"
   ]
  },
  {
   "cell_type": "code",
   "execution_count": 6,
   "id": "52516689",
   "metadata": {},
   "outputs": [
    {
     "data": {
      "text/plain": [
       "False"
      ]
     },
     "execution_count": 6,
     "metadata": {},
     "output_type": "execute_result"
    }
   ],
   "source": [
    "testfunction(lis1)"
   ]
  },
  {
   "cell_type": "markdown",
   "id": "7af0c8f6",
   "metadata": {},
   "source": [
    "## 5.\tIterate the given list of numbers (l1) and print only those numbers which are divisible by 5. (l1 = [10, 20, 33, 46, 55])"
   ]
  },
  {
   "cell_type": "code",
   "execution_count": 7,
   "id": "f3e5ce87",
   "metadata": {},
   "outputs": [
    {
     "name": "stdout",
     "output_type": "stream",
     "text": [
      "[10, 20, 55]\n"
     ]
    }
   ],
   "source": [
    "l1 = [10, 20, 33, 46, 55]\n",
    "\n",
    "value=[x for x in l1 if x % 5==0]\n",
    "print(value)\n"
   ]
  },
  {
   "cell_type": "markdown",
   "id": "9608c049",
   "metadata": {},
   "source": [
    "## 6.\tWrite a program to create function calculation() such that it can accept two variables and calculate addition and subtraction. Also, it must return both addition and subtraction in a single return call.\n",
    "## a.\tHint: Separate return values with a comma\n"
   ]
  },
  {
   "cell_type": "code",
   "execution_count": 8,
   "id": "d9195086",
   "metadata": {},
   "outputs": [
    {
     "name": "stdout",
     "output_type": "stream",
     "text": [
      "Enter the a value44\n",
      "Enter the b value55\n"
     ]
    },
    {
     "data": {
      "text/plain": [
       "(99, -11)"
      ]
     },
     "execution_count": 8,
     "metadata": {},
     "output_type": "execute_result"
    }
   ],
   "source": [
    "def calculation(a,b):\n",
    "    return a+b, a-b\n",
    "\n",
    "a=int(input(\"Enter the a value\"))\n",
    "b=int(input(\"Enter the b value\"))\n",
    "calculation(a,b)"
   ]
  },
  {
   "cell_type": "markdown",
   "id": "39842741",
   "metadata": {},
   "source": [
    "## 7.\tWrite a program to demonstrate the following Syntax error\n",
    "## a.\tSyntaxError: non-default argument follows default argument\n"
   ]
  },
  {
   "cell_type": "code",
   "execution_count": 9,
   "id": "17a27427",
   "metadata": {},
   "outputs": [
    {
     "ename": "SyntaxError",
     "evalue": "non-default argument follows default argument (Temp/ipykernel_27752/3557240518.py, line 1)",
     "output_type": "error",
     "traceback": [
      "\u001b[1;36m  File \u001b[1;32m\"C:\\Users\\Ranjith\\AppData\\Local\\Temp/ipykernel_27752/3557240518.py\"\u001b[1;36m, line \u001b[1;32m1\u001b[0m\n\u001b[1;33m    def arg(a=1,b):\u001b[0m\n\u001b[1;37m                 ^\u001b[0m\n\u001b[1;31mSyntaxError\u001b[0m\u001b[1;31m:\u001b[0m non-default argument follows default argument\n"
     ]
    }
   ],
   "source": [
    "def arg(a=1,b):\n",
    "    print(\"non-default argument follows default argument\")\n",
    "\n",
    "arg(a,2)"
   ]
  },
  {
   "cell_type": "markdown",
   "id": "fa693b89",
   "metadata": {},
   "source": [
    "## 8.\tWhat’s recursion? Explain in your own words and write a program to create a recursive function to calculate the sum of numbers from 0 to 10"
   ]
  },
  {
   "cell_type": "code",
   "execution_count": 3,
   "id": "3f750535",
   "metadata": {},
   "outputs": [
    {
     "data": {
      "text/plain": [
       "55"
      ]
     },
     "execution_count": 3,
     "metadata": {},
     "output_type": "execute_result"
    }
   ],
   "source": [
    "def recursion(a):    \n",
    "    if a ==0:\n",
    "        return a\n",
    "    else:\n",
    "        return (a + recursion(a-1))\n",
    "        \"\"\"10 + rec(9)9+rec(8)8+rec(7)7+rec(6)6+rec(5)5+rec(4)4+rec(3)3+rec(2)2+rec(1)1+rec(0)0= 55\"\"\"\n",
    "a=10\n",
    "recursion(a)\n",
    "    "
   ]
  },
  {
   "cell_type": "markdown",
   "id": "55d0754b",
   "metadata": {},
   "source": [
    "## 9.\tUse filter and lambda function to calculate square for below numbers only if they are odd number\n",
    "## a.\t[12, 11, 53, 22, 21, 77, 87, 88, 98]\n"
   ]
  },
  {
   "cell_type": "code",
   "execution_count": 15,
   "id": "2eb7ba5c",
   "metadata": {},
   "outputs": [
    {
     "name": "stdout",
     "output_type": "stream",
     "text": [
      "[121, 2809, 441, 5929, 7569]\n",
      "square val  11  =  121\n",
      "square val  53  =  2809\n",
      "square val  21  =  441\n",
      "square val  77  =  5929\n",
      "square val  87  =  7569\n"
     ]
    }
   ],
   "source": [
    "a=[12, 11, 53, 22, 21, 77, 87, 88, 98]\n",
    "\n",
    "val =list(filter(lambda x : x % 2 == 1, a))\n",
    "val2 =list(map(lambda x : x * x ,val))\n",
    "print(val2)\n",
    "for i in val:\n",
    "    print(\"square val \",i,\" = \",i*i)"
   ]
  },
  {
   "cell_type": "markdown",
   "id": "54004585",
   "metadata": {},
   "source": [
    "## 10.\t Write a function (not a lambda function) and use it to demonstrate an example for map function (any logical function of your choice)"
   ]
  },
  {
   "cell_type": "code",
   "execution_count": 6,
   "id": "3487ef5a",
   "metadata": {},
   "outputs": [
    {
     "name": "stdout",
     "output_type": "stream",
     "text": [
      "[11, 12, 13, 14, 15]\n"
     ]
    }
   ],
   "source": [
    "def addition(n):\n",
    "    return n+10\n",
    "\n",
    "list1 = [1, 2, 3, 4, 5]\n",
    "#result=map(addition,list1) return object\n",
    "result=list(map(addition,list1))\n",
    "\n",
    "print(result)\n"
   ]
  },
  {
   "cell_type": "code",
   "execution_count": null,
   "id": "c95ed74b",
   "metadata": {},
   "outputs": [],
   "source": []
  }
 ],
 "metadata": {
  "kernelspec": {
   "display_name": "Python 3 (ipykernel)",
   "language": "python",
   "name": "python3"
  },
  "language_info": {
   "codemirror_mode": {
    "name": "ipython",
    "version": 3
   },
   "file_extension": ".py",
   "mimetype": "text/x-python",
   "name": "python",
   "nbconvert_exporter": "python",
   "pygments_lexer": "ipython3",
   "version": "3.9.7"
  }
 },
 "nbformat": 4,
 "nbformat_minor": 5
}
