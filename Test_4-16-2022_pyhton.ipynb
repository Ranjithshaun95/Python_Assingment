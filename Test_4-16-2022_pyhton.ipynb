{
 "cells": [
  {
   "cell_type": "markdown",
   "id": "553624d1",
   "metadata": {},
   "source": [
    "### 1. Write a program (with function) which takes a sequence of numbers and check if all\n",
    "### numbers are unique"
   ]
  },
  {
   "cell_type": "code",
   "execution_count": 5,
   "id": "0aab1964",
   "metadata": {},
   "outputs": [
    {
     "name": "stdout",
     "output_type": "stream",
     "text": [
      "True\n",
      "False\n"
     ]
    }
   ],
   "source": [
    "# Function for find unique value\n",
    "\n",
    "def Uni_value(data):\n",
    "    s=set(data)\n",
    "    #print(s)\n",
    "    if len(data) == len(s):\n",
    "     return True\n",
    "    else:\n",
    "     return False;\n",
    "    \n",
    "print(Uni_value([1,2,3,4,5]))\n",
    "print(Uni_value([1,2,3,3,4,5]))"
   ]
  },
  {
   "cell_type": "markdown",
   "id": "4a7a8b16",
   "metadata": {},
   "source": [
    "### 2. Python program to find out the average of a set of integers\n",
    "###  a. Note: Don’t use the pre-defined functions like np.mean\n",
    "### b. For ex: If input is 5, the output should be average of 1+2+3+4+5"
   ]
  },
  {
   "cell_type": "code",
   "execution_count": 15,
   "id": "f56abe85",
   "metadata": {},
   "outputs": [
    {
     "name": "stdout",
     "output_type": "stream",
     "text": [
      "Avarage value is 13.5\n"
     ]
    }
   ],
   "source": [
    "def avarage(num):\n",
    "    sum=0\n",
    "    for i in num:\n",
    "        sum=sum+i\n",
    "    avg=sum/len(num)\n",
    "    return avg\n",
    "\n",
    "print(\"Avarage value is\",avarage([1,2,3,4,5,6]))"
   ]
  },
  {
   "cell_type": "markdown",
   "id": "1d7a5d16",
   "metadata": {},
   "source": [
    "### 3. Python program to check whether the given integer is a multiple of both 5 and 7"
   ]
  },
  {
   "cell_type": "code",
   "execution_count": 38,
   "id": "d29a19d6",
   "metadata": {},
   "outputs": [
    {
     "name": "stdout",
     "output_type": "stream",
     "text": [
      "Please enter a number : 35\n",
      "A valid number\n"
     ]
    }
   ],
   "source": [
    "Number = int(input('Please enter a number : '))\n",
    "if (Number%5==0):\n",
    "    if (Number%7==0):\n",
    "        print('A valid number')\n",
    "    else:\n",
    "        print('Not a multiple of 7')\n",
    "else:\n",
    "    print('Not a multiple of 5')"
   ]
  },
  {
   "cell_type": "markdown",
   "id": "0dd167c5",
   "metadata": {},
   "source": [
    "### 4. Python program to display the given integer in reverse manner\n",
    "### a. Ex: input 852, output should be 258\n"
   ]
  },
  {
   "cell_type": "code",
   "execution_count": 22,
   "id": "fb6f0b79",
   "metadata": {},
   "outputs": [
    {
     "data": {
      "text/plain": [
       "258"
      ]
     },
     "execution_count": 22,
     "metadata": {},
     "output_type": "execute_result"
    }
   ],
   "source": [
    "def rev(num):    \n",
    "    r_num=0\n",
    "    while num != 0:\n",
    "        digit = num % 10\n",
    "        r_num = r_num * 10 + digit\n",
    "        num //= 10\n",
    "    return r_num   \n",
    "#input    \n",
    "rev(852)"
   ]
  },
  {
   "cell_type": "markdown",
   "id": "457d36d1",
   "metadata": {},
   "source": [
    "### 5. Create an inner function to calculate the addition in the following way\n",
    "### a. Create an outer function that will accept two parameters, a and b\n",
    "### b. Create an inner function inside an outer function that will calculate the addition of a\n",
    "### and b\n",
    "### c. At last, an outer function will add 5 into addition and return it"
   ]
  },
  {
   "cell_type": "code",
   "execution_count": 37,
   "id": "bea8422f",
   "metadata": {},
   "outputs": [
    {
     "name": "stdout",
     "output_type": "stream",
     "text": [
      "Enter the number A: 4\n",
      "Enter the number B: 4\n"
     ]
    },
    {
     "data": {
      "text/plain": [
       "13"
      ]
     },
     "execution_count": 37,
     "metadata": {},
     "output_type": "execute_result"
    }
   ],
   "source": [
    "def outer(a,b):\n",
    "    a=a\n",
    "    b=b\n",
    "    #print(a,b)\n",
    "    def inner(): \n",
    "        return a+b\n",
    "        #print(a+b)\n",
    "    output =inner()\n",
    "    return output+5\n",
    "    \n",
    "a= int(input(\"Enter the number A: \"))\n",
    "b= int(input(\"Enter the number B: \"))\n",
    "\n",
    "outer(a,b)\n",
    "\n"
   ]
  },
  {
   "cell_type": "markdown",
   "id": "ac667d31",
   "metadata": {},
   "source": [
    "6. Python Program to Check Leap Year\n",
    "a. A leap year is exactly divisible by 4 except for century years (years ending with 00).\n",
    "The century year is a leap year only if it is perfectly divisible by 400\n",
    "b. For ex: 2017 is not a leap year, 1900 is a not leap year, 2012 is a leap year, 2000 is a\n",
    "leap year"
   ]
  },
  {
   "cell_type": "code",
   "execution_count": 28,
   "id": "acf5bc72",
   "metadata": {},
   "outputs": [
    {
     "name": "stdout",
     "output_type": "stream",
     "text": [
      "Enter the number: 2000\n",
      "Given Year is a leap Year\n"
     ]
    }
   ],
   "source": [
    "def CheckLeap(Year):  \n",
    "  \n",
    "  if((Year % 400 == 0) or (Year % 100 != 0) and (Year % 4 == 0)):   \n",
    "    print(\"Given Year is a leap Year\");  \n",
    "  else:  \n",
    "    print (\"Given Year is not a leap Year\")  \n",
    "  \n",
    "Year = int(input(\"Enter the number: \"))   \n",
    "CheckLeap(Year)  "
   ]
  },
  {
   "cell_type": "code",
   "execution_count": null,
   "id": "c6f53037",
   "metadata": {},
   "outputs": [],
   "source": []
  },
  {
   "cell_type": "code",
   "execution_count": null,
   "id": "e4c93404",
   "metadata": {},
   "outputs": [],
   "source": []
  }
 ],
 "metadata": {
  "kernelspec": {
   "display_name": "Python 3 (ipykernel)",
   "language": "python",
   "name": "python3"
  },
  "language_info": {
   "codemirror_mode": {
    "name": "ipython",
    "version": 3
   },
   "file_extension": ".py",
   "mimetype": "text/x-python",
   "name": "python",
   "nbconvert_exporter": "python",
   "pygments_lexer": "ipython3",
   "version": "3.9.7"
  }
 },
 "nbformat": 4,
 "nbformat_minor": 5
}
