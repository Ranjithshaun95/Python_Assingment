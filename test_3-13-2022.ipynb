{
 "cells": [
  {
   "cell_type": "markdown",
   "id": "e40aa7d7",
   "metadata": {},
   "source": [
    "### 1.\tCreate a program that asks the user to enter their name and their age. Print out a message that tells them the year that they will turn 100 years old"
   ]
  },
  {
   "cell_type": "code",
   "execution_count": null,
   "id": "413813ca",
   "metadata": {},
   "outputs": [],
   "source": [
    "from datetime import datetime"
   ]
  },
  {
   "cell_type": "code",
   "execution_count": 5,
   "id": "0727c073",
   "metadata": {},
   "outputs": [
    {
     "name": "stdout",
     "output_type": "stream",
     "text": [
      "What is your name? \n",
      "Ranjith\n",
      "How old are you? \n",
      "27\n",
      "hello  Ranjith now u r in  27 You will turn 100 years old in Ranjith 27 2095\n"
     ]
    }
   ],
   "source": [
    "def hundread_cal(name,age):\n",
    "    hundred = int((100-age) + datetime.now().year)\n",
    "    print('hello ',name, 'now u r in ',age,'You will turn 100 years old in',name, age, hundred)\n",
    "\n",
    "\n",
    "name = input('What is your name? \\n')\n",
    "age = int(input('How old are you? \\n'))\n",
    "hundread_cal(name,age)"
   ]
  },
  {
   "cell_type": "markdown",
   "id": "33c06def",
   "metadata": {},
   "source": [
    "### 2.\tWhat is pandas groupby? Demonstrate with your own example"
   ]
  },
  {
   "cell_type": "code",
   "execution_count": 8,
   "id": "a53e0559",
   "metadata": {},
   "outputs": [],
   "source": [
    "import pandas as pd\n",
    "\n",
    "a = {'Team': ['Riders', 'Riders', 'Devils', 'Devils', 'Kings','kings', 'Kings', 'Kings', 'Riders', 'Royals', 'Royals', 'Riders'],\n",
    "     'Rank': [1, 2, 2, 3, 3,4 ,1 ,1,2 , 4,1,2]}\n"
   ]
  },
  {
   "cell_type": "code",
   "execution_count": 14,
   "id": "6942f1a6",
   "metadata": {},
   "outputs": [
    {
     "data": {
      "text/plain": [
       "{('Devils', 2): [2], ('Devils', 3): [3], ('Kings', 1): [6, 7], ('Kings', 3): [4], ('Riders', 1): [0], ('Riders', 2): [1, 8, 11], ('Royals', 1): [10], ('Royals', 4): [9], ('kings', 4): [5]}"
      ]
     },
     "execution_count": 14,
     "metadata": {},
     "output_type": "execute_result"
    }
   ],
   "source": [
    "df = pd.DataFrame(a)\n",
    "group_by=df.groupby(['Team','Rank']).groups\n",
    "group_by"
   ]
  },
  {
   "cell_type": "markdown",
   "id": "c0b89095",
   "metadata": {},
   "source": [
    "### 3.\tHow to create a dataframe from list?"
   ]
  },
  {
   "cell_type": "code",
   "execution_count": 17,
   "id": "271585e3",
   "metadata": {},
   "outputs": [
    {
     "data": {
      "text/html": [
       "<div>\n",
       "<style scoped>\n",
       "    .dataframe tbody tr th:only-of-type {\n",
       "        vertical-align: middle;\n",
       "    }\n",
       "\n",
       "    .dataframe tbody tr th {\n",
       "        vertical-align: top;\n",
       "    }\n",
       "\n",
       "    .dataframe thead th {\n",
       "        text-align: right;\n",
       "    }\n",
       "</style>\n",
       "<table border=\"1\" class=\"dataframe\">\n",
       "  <thead>\n",
       "    <tr style=\"text-align: right;\">\n",
       "      <th></th>\n",
       "      <th>Name</th>\n",
       "    </tr>\n",
       "  </thead>\n",
       "  <tbody>\n",
       "    <tr>\n",
       "      <th>0</th>\n",
       "      <td>Katie</td>\n",
       "    </tr>\n",
       "    <tr>\n",
       "      <th>1</th>\n",
       "      <td>Nik</td>\n",
       "    </tr>\n",
       "    <tr>\n",
       "      <th>2</th>\n",
       "      <td>James</td>\n",
       "    </tr>\n",
       "    <tr>\n",
       "      <th>3</th>\n",
       "      <td>Evan</td>\n",
       "    </tr>\n",
       "  </tbody>\n",
       "</table>\n",
       "</div>"
      ],
      "text/plain": [
       "    Name\n",
       "0  Katie\n",
       "1    Nik\n",
       "2  James\n",
       "3   Evan"
      ]
     },
     "execution_count": 17,
     "metadata": {},
     "output_type": "execute_result"
    }
   ],
   "source": [
    "import pandas as pd\n",
    "names = ['Katie', 'Nik', 'James', 'Evan'] ## LIST \n",
    "df = pd.DataFrame(names, columns=['Name']) ## Converting list to Data fraome\n",
    "df"
   ]
  },
  {
   "cell_type": "markdown",
   "id": "a3d410ec",
   "metadata": {},
   "source": [
    "### 4.\tWhat are the ways to combine the dataframe in pandas. Give an example for each"
   ]
  },
  {
   "cell_type": "code",
   "execution_count": 20,
   "id": "2936b528",
   "metadata": {},
   "outputs": [
    {
     "name": "stdout",
     "output_type": "stream",
     "text": [
      "[   id     Name\n",
      "0  A1  Ranjith\n",
      "1  A2    Shuan\n",
      "2  A3  Karthik\n",
      "3  A4  Narayan,    id     Name\n",
      "0  B1  Chennai\n",
      "1  B2   Mumbai\n",
      "2  B3   Kerala\n",
      "3  B4     pune]\n"
     ]
    },
    {
     "data": {
      "text/html": [
       "<div>\n",
       "<style scoped>\n",
       "    .dataframe tbody tr th:only-of-type {\n",
       "        vertical-align: middle;\n",
       "    }\n",
       "\n",
       "    .dataframe tbody tr th {\n",
       "        vertical-align: top;\n",
       "    }\n",
       "\n",
       "    .dataframe thead th {\n",
       "        text-align: right;\n",
       "    }\n",
       "</style>\n",
       "<table border=\"1\" class=\"dataframe\">\n",
       "  <thead>\n",
       "    <tr style=\"text-align: right;\">\n",
       "      <th></th>\n",
       "      <th>id</th>\n",
       "      <th>Name</th>\n",
       "    </tr>\n",
       "  </thead>\n",
       "  <tbody>\n",
       "    <tr>\n",
       "      <th>0</th>\n",
       "      <td>A1</td>\n",
       "      <td>Ranjith</td>\n",
       "    </tr>\n",
       "    <tr>\n",
       "      <th>1</th>\n",
       "      <td>A2</td>\n",
       "      <td>Shuan</td>\n",
       "    </tr>\n",
       "    <tr>\n",
       "      <th>2</th>\n",
       "      <td>A3</td>\n",
       "      <td>Karthik</td>\n",
       "    </tr>\n",
       "    <tr>\n",
       "      <th>3</th>\n",
       "      <td>A4</td>\n",
       "      <td>Narayan</td>\n",
       "    </tr>\n",
       "    <tr>\n",
       "      <th>0</th>\n",
       "      <td>B1</td>\n",
       "      <td>Chennai</td>\n",
       "    </tr>\n",
       "    <tr>\n",
       "      <th>1</th>\n",
       "      <td>B2</td>\n",
       "      <td>Mumbai</td>\n",
       "    </tr>\n",
       "    <tr>\n",
       "      <th>2</th>\n",
       "      <td>B3</td>\n",
       "      <td>Kerala</td>\n",
       "    </tr>\n",
       "    <tr>\n",
       "      <th>3</th>\n",
       "      <td>B4</td>\n",
       "      <td>pune</td>\n",
       "    </tr>\n",
       "  </tbody>\n",
       "</table>\n",
       "</div>"
      ],
      "text/plain": [
       "   id     Name\n",
       "0  A1  Ranjith\n",
       "1  A2    Shuan\n",
       "2  A3  Karthik\n",
       "3  A4  Narayan\n",
       "0  B1  Chennai\n",
       "1  B2   Mumbai\n",
       "2  B3   Kerala\n",
       "3  B4     pune"
      ]
     },
     "execution_count": 20,
     "metadata": {},
     "output_type": "execute_result"
    }
   ],
   "source": [
    "# 1.Concatenating\n",
    "# 2.Joining DataFrames \n",
    "import pandas as pd\n",
    "# First DataFrame\n",
    "df1 = pd.DataFrame({'id': ['A1', 'A2', 'A3', 'A4'],\n",
    "                    'Name': ['Ranjith', 'Shuan', 'Karthik', 'Narayan']})\n",
    "  \n",
    "# Second DataFrame\n",
    "df2 = pd.DataFrame({'id': ['B1', 'B2', 'B3', 'B4'],\n",
    "                    'Name': ['Chennai', 'Mumbai', 'Kerala', 'pune']})\n",
    "\n"
   ]
  },
  {
   "cell_type": "code",
   "execution_count": 24,
   "id": "9ae66bce",
   "metadata": {},
   "outputs": [
    {
     "data": {
      "text/html": [
       "<div>\n",
       "<style scoped>\n",
       "    .dataframe tbody tr th:only-of-type {\n",
       "        vertical-align: middle;\n",
       "    }\n",
       "\n",
       "    .dataframe tbody tr th {\n",
       "        vertical-align: top;\n",
       "    }\n",
       "\n",
       "    .dataframe thead th {\n",
       "        text-align: right;\n",
       "    }\n",
       "</style>\n",
       "<table border=\"1\" class=\"dataframe\">\n",
       "  <thead>\n",
       "    <tr style=\"text-align: right;\">\n",
       "      <th></th>\n",
       "      <th>id</th>\n",
       "      <th>Name</th>\n",
       "    </tr>\n",
       "  </thead>\n",
       "  <tbody>\n",
       "    <tr>\n",
       "      <th>0</th>\n",
       "      <td>A1</td>\n",
       "      <td>Ranjith</td>\n",
       "    </tr>\n",
       "    <tr>\n",
       "      <th>1</th>\n",
       "      <td>A2</td>\n",
       "      <td>Shuan</td>\n",
       "    </tr>\n",
       "    <tr>\n",
       "      <th>2</th>\n",
       "      <td>A3</td>\n",
       "      <td>Karthik</td>\n",
       "    </tr>\n",
       "    <tr>\n",
       "      <th>3</th>\n",
       "      <td>A4</td>\n",
       "      <td>Narayan</td>\n",
       "    </tr>\n",
       "    <tr>\n",
       "      <th>0</th>\n",
       "      <td>B1</td>\n",
       "      <td>Chennai</td>\n",
       "    </tr>\n",
       "    <tr>\n",
       "      <th>1</th>\n",
       "      <td>B2</td>\n",
       "      <td>Mumbai</td>\n",
       "    </tr>\n",
       "    <tr>\n",
       "      <th>2</th>\n",
       "      <td>B3</td>\n",
       "      <td>Kerala</td>\n",
       "    </tr>\n",
       "    <tr>\n",
       "      <th>3</th>\n",
       "      <td>B4</td>\n",
       "      <td>pune</td>\n",
       "    </tr>\n",
       "  </tbody>\n",
       "</table>\n",
       "</div>"
      ],
      "text/plain": [
       "   id     Name\n",
       "0  A1  Ranjith\n",
       "1  A2    Shuan\n",
       "2  A3  Karthik\n",
       "3  A4  Narayan\n",
       "0  B1  Chennai\n",
       "1  B2   Mumbai\n",
       "2  B3   Kerala\n",
       "3  B4     pune"
      ]
     },
     "execution_count": 24,
     "metadata": {},
     "output_type": "execute_result"
    }
   ],
   "source": [
    "#1. concate\n",
    "##print(frames)\n",
    "result = pd.concat([df1, df2])\n",
    "result"
   ]
  },
  {
   "cell_type": "code",
   "execution_count": 26,
   "id": "c7467cdf",
   "metadata": {},
   "outputs": [
    {
     "data": {
      "text/html": [
       "<div>\n",
       "<style scoped>\n",
       "    .dataframe tbody tr th:only-of-type {\n",
       "        vertical-align: middle;\n",
       "    }\n",
       "\n",
       "    .dataframe tbody tr th {\n",
       "        vertical-align: top;\n",
       "    }\n",
       "\n",
       "    .dataframe thead th {\n",
       "        text-align: right;\n",
       "    }\n",
       "</style>\n",
       "<table border=\"1\" class=\"dataframe\">\n",
       "  <thead>\n",
       "    <tr style=\"text-align: right;\">\n",
       "      <th></th>\n",
       "      <th>id</th>\n",
       "      <th>Name</th>\n",
       "    </tr>\n",
       "  </thead>\n",
       "  <tbody>\n",
       "    <tr>\n",
       "      <th>0</th>\n",
       "      <td>A1</td>\n",
       "      <td>Ranjith</td>\n",
       "    </tr>\n",
       "    <tr>\n",
       "      <th>1</th>\n",
       "      <td>A2</td>\n",
       "      <td>Shuan</td>\n",
       "    </tr>\n",
       "    <tr>\n",
       "      <th>2</th>\n",
       "      <td>A3</td>\n",
       "      <td>Karthik</td>\n",
       "    </tr>\n",
       "    <tr>\n",
       "      <th>3</th>\n",
       "      <td>A4</td>\n",
       "      <td>Narayan</td>\n",
       "    </tr>\n",
       "    <tr>\n",
       "      <th>0</th>\n",
       "      <td>B1</td>\n",
       "      <td>Chennai</td>\n",
       "    </tr>\n",
       "    <tr>\n",
       "      <th>1</th>\n",
       "      <td>B2</td>\n",
       "      <td>Mumbai</td>\n",
       "    </tr>\n",
       "    <tr>\n",
       "      <th>2</th>\n",
       "      <td>B3</td>\n",
       "      <td>Kerala</td>\n",
       "    </tr>\n",
       "    <tr>\n",
       "      <th>3</th>\n",
       "      <td>B4</td>\n",
       "      <td>pune</td>\n",
       "    </tr>\n",
       "  </tbody>\n",
       "</table>\n",
       "</div>"
      ],
      "text/plain": [
       "   id     Name\n",
       "0  A1  Ranjith\n",
       "1  A2    Shuan\n",
       "2  A3  Karthik\n",
       "3  A4  Narayan\n",
       "0  B1  Chennai\n",
       "1  B2   Mumbai\n",
       "2  B3   Kerala\n",
       "3  B4     pune"
      ]
     },
     "metadata": {},
     "output_type": "display_data"
    }
   ],
   "source": [
    "# Joinner\n",
    "result = pd.concat([df1, df2], axis=0, join='inner')\n",
    "display(result)"
   ]
  },
  {
   "cell_type": "markdown",
   "id": "973ef754",
   "metadata": {},
   "source": [
    "### 5.\tWhat is the difference between list and tuples in Python? "
   ]
  },
  {
   "cell_type": "code",
   "execution_count": 31,
   "id": "b9e7237c",
   "metadata": {},
   "outputs": [
    {
     "data": {
      "text/plain": [
       "['test', 2, 3, 'Ranjith', 'shaun']"
      ]
     },
     "execution_count": 31,
     "metadata": {},
     "output_type": "execute_result"
    }
   ],
   "source": [
    "##LIST\n",
    "## List is a container to contain different types of objects and is used to iterate objects\n",
    "## SYNTAX is [] or object list()\n",
    "## we can use to data manupuaion with i list\n",
    "L=[1,2,3,'Ranjith','shaun']\n",
    "## we can able to re modify value content has mutabble\n",
    "L[0]='test'\n",
    "L"
   ]
  },
  {
   "cell_type": "code",
   "execution_count": 30,
   "id": "91513fe5",
   "metadata": {},
   "outputs": [
    {
     "ename": "TypeError",
     "evalue": "'tuple' object does not support item assignment",
     "output_type": "error",
     "traceback": [
      "\u001b[1;31m---------------------------------------------------------------------------\u001b[0m",
      "\u001b[1;31mTypeError\u001b[0m                                 Traceback (most recent call last)",
      "\u001b[1;32m~\\AppData\\Local\\Temp/ipykernel_19860/4216962710.py\u001b[0m in \u001b[0;36m<module>\u001b[1;34m\u001b[0m\n\u001b[0;32m      5\u001b[0m \u001b[0mtup\u001b[0m \u001b[1;33m=\u001b[0m \u001b[1;33m(\u001b[0m\u001b[1;34m'a'\u001b[0m\u001b[1;33m,\u001b[0m \u001b[1;34m'b'\u001b[0m\u001b[1;33m,\u001b[0m \u001b[1;34m'c'\u001b[0m\u001b[1;33m,\u001b[0m \u001b[1;34m'd'\u001b[0m\u001b[1;33m,\u001b[0m \u001b[1;34m'e'\u001b[0m\u001b[1;33m)\u001b[0m\u001b[1;33m\u001b[0m\u001b[1;33m\u001b[0m\u001b[0m\n\u001b[0;32m      6\u001b[0m \u001b[1;31m## we can'n able to re modify value content has immutabble\u001b[0m\u001b[1;33m\u001b[0m\u001b[1;33m\u001b[0m\u001b[0m\n\u001b[1;32m----> 7\u001b[1;33m \u001b[0mtup\u001b[0m\u001b[1;33m[\u001b[0m\u001b[1;36m0\u001b[0m\u001b[1;33m]\u001b[0m \u001b[1;33m=\u001b[0m \u001b[1;36m2\u001b[0m\u001b[1;33m\u001b[0m\u001b[1;33m\u001b[0m\u001b[0m\n\u001b[0m\u001b[0;32m      8\u001b[0m \u001b[0mtup\u001b[0m\u001b[1;33m\u001b[0m\u001b[1;33m\u001b[0m\u001b[0m\n",
      "\u001b[1;31mTypeError\u001b[0m: 'tuple' object does not support item assignment"
     ]
    }
   ],
   "source": [
    "##tuples\n",
    "## tuples is a container to contain different types of objects and is used to iterate objects\n",
    "## SYNTAX is () or object tuple()\n",
    "## we can't use to data manupuaion with in tuples only readble\n",
    "tup = ('a', 'b', 'c', 'd', 'e')\n",
    "## we can'n able to re modify value content has immutabble\n",
    "tup[0] = 2 ## show immutable error\n",
    "\n",
    "tup"
   ]
  },
  {
   "cell_type": "markdown",
   "id": "48b9cc1d",
   "metadata": {},
   "source": [
    "### 6.\tFind out the mean, median and standard deviation of this numpy array -> np.array([1,5,3,100,4,48])"
   ]
  },
  {
   "cell_type": "code",
   "execution_count": 32,
   "id": "9435c721",
   "metadata": {},
   "outputs": [],
   "source": [
    "import numpy as np"
   ]
  },
  {
   "cell_type": "code",
   "execution_count": 34,
   "id": "9d6f2f3d",
   "metadata": {},
   "outputs": [
    {
     "name": "stdout",
     "output_type": "stream",
     "text": [
      "35.0 35.0 17.07825127659933\n"
     ]
    }
   ],
   "source": [
    "n1=np.array([10,20,30,40,50,60])\n",
    "mean=np.mean(n1)\n",
    "med=np.median(n1)\n",
    "std=np.std(n1)\n",
    "print(mean,med,std)"
   ]
  },
  {
   "cell_type": "markdown",
   "id": "894b9eb1",
   "metadata": {},
   "source": [
    "### 7.\tHow will you remove duplicate elements from a list"
   ]
  },
  {
   "cell_type": "code",
   "execution_count": 38,
   "id": "6798b5b6",
   "metadata": {},
   "outputs": [
    {
     "data": {
      "text/plain": [
       "[1, 2, 3, 4, 5]"
      ]
     },
     "execution_count": 38,
     "metadata": {},
     "output_type": "execute_result"
    }
   ],
   "source": [
    "l=[1,1,1,2,2,3,3,4,5]\n",
    "a=set(l)## convert from list to set also list should not support duplicate so its autmatically removed\n",
    "l=list(a)## convert set to list\n",
    "l"
   ]
  },
  {
   "cell_type": "markdown",
   "id": "847be7b1",
   "metadata": {},
   "source": [
    "### 8.\tWhat is a map() function in Python? Give an example"
   ]
  },
  {
   "cell_type": "code",
   "execution_count": 42,
   "id": "e776c6ff",
   "metadata": {},
   "outputs": [
    {
     "name": "stdout",
     "output_type": "stream",
     "text": [
      "[2, 4, 6, 8]\n"
     ]
    }
   ],
   "source": [
    "# map() function returns a map object(which is an iterator) of the results \n",
    "# after applying the given function to each item of a given iterable (list, tuple etc.)\n",
    "def addition(n):\n",
    "    return n + n\n",
    "\n",
    "numbers = (1, 2, 3, 4)\n",
    "result = map(addition, numbers)\n",
    "print(list(result))"
   ]
  },
  {
   "cell_type": "markdown",
   "id": "1ddac0c3",
   "metadata": {},
   "source": [
    "### 9.\tWhat is pass in Python?"
   ]
  },
  {
   "cell_type": "code",
   "execution_count": 43,
   "id": "83762e4d",
   "metadata": {},
   "outputs": [],
   "source": [
    "# The pass statement is used as a placeholder for future code.\n",
    "# When the pass statement is executed, nothing happens, but you avoid getting an error when empty code is not allowed\n",
    "# Empty code is not allowed in loops, function definitions, class definitions, or in if statements\n",
    "a = 33\n",
    "b = 200\n",
    "if b > a:\n",
    "  pass"
   ]
  },
  {
   "cell_type": "markdown",
   "id": "c13052ba",
   "metadata": {},
   "source": [
    "### 10.\tWhat is vstack() in numpy? Give an example"
   ]
  },
  {
   "cell_type": "code",
   "execution_count": 46,
   "id": "49afa042",
   "metadata": {},
   "outputs": [
    {
     "name": "stdout",
     "output_type": "stream",
     "text": [
      "1st Input array : \n",
      " [[ 1  2  3]\n",
      " [-1 -2 -3]]\n",
      "2nd Input array : \n",
      " [[ 4  5  6]\n",
      " [-4 -5 -6]]\n"
     ]
    },
    {
     "data": {
      "text/plain": [
       "array([[ 1,  2,  3],\n",
       "       [-1, -2, -3],\n",
       "       [ 4,  5,  6],\n",
       "       [-4, -5, -6]])"
      ]
     },
     "execution_count": 46,
     "metadata": {},
     "output_type": "execute_result"
    }
   ],
   "source": [
    "# numpy.vstack() function is used to stack the sequence of input arrays vertically to make a single array.\n",
    "import numpy as np\n",
    "\n",
    "a1 = np.array([[ 1, 2, 3], [ -1, -2, -3]] )\n",
    "#print (\"1st Input array : \\n\", a1) \n",
    "  \n",
    "a2 = np.array([[ 4, 5, 6], [ -4, -5, -6]] )\n",
    "#print (\"2nd Input array : \\n\", a2) \n",
    "  \n",
    "# Stacking the two arrays vertically\n",
    "out_arr = np.vstack((a1, a2))\n",
    "out_arr"
   ]
  },
  {
   "cell_type": "code",
   "execution_count": null,
   "id": "a5da72b6",
   "metadata": {},
   "outputs": [],
   "source": []
  }
 ],
 "metadata": {
  "kernelspec": {
   "display_name": "Python 3 (ipykernel)",
   "language": "python",
   "name": "python3"
  },
  "language_info": {
   "codemirror_mode": {
    "name": "ipython",
    "version": 3
   },
   "file_extension": ".py",
   "mimetype": "text/x-python",
   "name": "python",
   "nbconvert_exporter": "python",
   "pygments_lexer": "ipython3",
   "version": "3.9.7"
  }
 },
 "nbformat": 4,
 "nbformat_minor": 5
}
